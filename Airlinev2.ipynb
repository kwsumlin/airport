{
 "cells": [
  {
   "cell_type": "markdown",
   "metadata": {},
   "source": [
    "Please process this attached dataset and output the calculated data points below in an XML schema you define. Please submit your code and resulting XML for review.\n",
    "*         Total number of airports\n",
    "*         Total number of flights\n",
    "*         Percentage of total flights delayed by \"security\"\n",
    "*         Percentage of total flights delayed by \"weather\"\n",
    "*         Percentage of total flights delayed by \"carrier\"\n",
    "*         Airport with the highest number of delays due to \"security\"\n",
    "*         Airport with the lowest number of delays due to \"security\"\n",
    "*         Carrier with the least amount of \"late aircraft\""
   ]
  },
  {
   "cell_type": "code",
   "execution_count": 97,
   "metadata": {},
   "outputs": [],
   "source": [
    "import json\n",
    "import pandas as pd\n",
    "import xml.etree.ElementTree as ET"
   ]
  },
  {
   "cell_type": "code",
   "execution_count": 98,
   "metadata": {},
   "outputs": [],
   "source": [
    "#read file\n",
    "myjsonfile = open('airlines.json', 'r')\n",
    "jsondata = myjsonfile.read()"
   ]
  },
  {
   "cell_type": "code",
   "execution_count": 99,
   "metadata": {},
   "outputs": [],
   "source": [
    "#parse\n",
    "obj=json.loads(jsondata)"
   ]
  },
  {
   "cell_type": "code",
   "execution_count": 100,
   "metadata": {},
   "outputs": [
    {
     "data": {
      "text/plain": [
       "{'airport': {'code': 'ATL',\n",
       "  'name': 'Atlanta, GA: Hartsfield-Jackson Atlanta International'},\n",
       " 'statistics': {'flights': {'cancelled': 5,\n",
       "   'on time': 561,\n",
       "   'total': 752,\n",
       "   'delayed': 186,\n",
       "   'diverted': 0},\n",
       "  '# of delays': {'late aircraft': 18,\n",
       "   'weather': 28,\n",
       "   'security': 2,\n",
       "   'national aviation system': 105,\n",
       "   'carrier': 34},\n",
       "  'minutes delayed': {'late aircraft': 1269,\n",
       "   'weather': 1722,\n",
       "   'carrier': 1367,\n",
       "   'security': 139,\n",
       "   'total': 8314,\n",
       "   'national aviation system': 3817}},\n",
       " 'time': {'label': '2003/6', 'year': 2003, 'month': 6},\n",
       " 'carrier': {'code': 'AA', 'name': 'American Airlines Inc.'}}"
      ]
     },
     "execution_count": 100,
     "metadata": {},
     "output_type": "execute_result"
    }
   ],
   "source": [
    "# verify we have data\n",
    "obj[0]"
   ]
  },
  {
   "cell_type": "code",
   "execution_count": 101,
   "metadata": {},
   "outputs": [
    {
     "name": "stdout",
     "output_type": "stream",
     "text": [
      "Total # of airports:  54012\n",
      "Total # of flights:  52445768\n",
      "Total # of flights delayed by Sec:  24577\n",
      "Percentage # of flights delayed by security:  0.0004686174106555175\n",
      "Percentage # of flights delayed by weather:  0.006574029004590037\n",
      "Percentage # of flights delayed by carrier:  0.0482971285690773\n"
     ]
    }
   ],
   "source": [
    "totalairports = 0\n",
    "totalFlights = 0\n",
    "totalDelayedBySec = 0\n",
    "DelayedBySec = 0\n",
    "totalDelayedByW = 0\n",
    "totalDelayedByC = 0\n",
    "\n",
    "for i in range(len(obj)):\n",
    "#    print(\"Airport: \", obj[i].get(\"airport\"))\n",
    "#    print(\"Statistics: \", obj[i].get(\"statistics\").get(\"flights\").get(\"cancelled\"))\n",
    "    totalFlights += obj[i].get(\"statistics\").get(\"flights\").get(\"total\")\n",
    "    totalDelayedBySec += obj[i].get(\"statistics\").get(\"# of delays\").get(\"security\")\n",
    "    totalDelayedByW += obj[i].get(\"statistics\").get(\"# of delays\").get(\"weather\")\n",
    "    totalDelayedByC += obj[i].get(\"statistics\").get(\"# of delays\").get(\"carrier\")\n",
    "#    print(\"Time: \", obj[i].get(\"time\"))\n",
    "#    print(\"Carrier: \", obj[i].get(\"carrier\"))\n",
    "    \n",
    "    totalairports = i;\n",
    "    #totalDelayedBySec += DelayedBySec\n",
    "\n",
    "\n",
    "percentDelayedBySec = totalDelayedBySec/totalFlights;\n",
    "percentDelayedByW = totalDelayedByW/totalFlights;\n",
    "percentDelayedByC = totalDelayedByC/totalFlights;\n",
    "print(\"Total # of airports: \", totalairports);\n",
    "print(\"Total # of flights: \", totalFlights);\n",
    "print(\"Total # of flights delayed by Sec: \", totalDelayedBySec);\n",
    "print(\"Percentage # of flights delayed by security: \", percentDelayedBySec);\n",
    "print(\"Percentage # of flights delayed by weather: \", percentDelayedByW);\n",
    "print(\"Percentage # of flights delayed by carrier: \", percentDelayedByC);"
   ]
  },
  {
   "cell_type": "markdown",
   "metadata": {},
   "source": [
    "# Find the airport with the highest number of delays due to \"security\""
   ]
  },
  {
   "cell_type": "code",
   "execution_count": 102,
   "metadata": {},
   "outputs": [
    {
     "name": "stdout",
     "output_type": "stream",
     "text": [
      "Airport with the highest number of delays due to security:  {'code': 'DFW', 'name': 'Dallas/Fort Worth, TX: Dallas/Fort Worth International'}\n",
      "Highest number of delays due to security:  81\n",
      "{'code': 'DFW', 'name': 'Dallas/Fort Worth, TX: Dallas/Fort Worth International'}\n"
     ]
    }
   ],
   "source": [
    "highestDelayCount = 0\n",
    "airportVal = \"\"\n",
    "delayCountList = []\n",
    "airportList = []\n",
    "carrierList = []\n",
    "lateAircraftList = []\n",
    "for i in range(len(obj)):\n",
    "   \n",
    "    delayCount = obj[i].get(\"statistics\").get(\"# of delays\").get(\"security\")\n",
    "    lateAircraftList.append(obj[i].get(\"statistics\").get(\"# of delays\").get(\"late aircraft\"))\n",
    "    carrierList.append(obj[i].get(\"carrier\").get(\"name\"))\n",
    "    delayCountList.append(delayCount)\n",
    "    airportList.append(obj[i].get(\"airport\"))\n",
    "\n",
    "    if delayCount > highestDelayCount:\n",
    "        highestDelayCount = delayCount\n",
    "        airportVal = obj[i].get(\"airport\")\n",
    "        \n",
    "print(\"Airport with the highest number of delays due to security: \", airportVal)\n",
    "print(\"Highest number of delays due to security: \", highestDelayCount)   \n",
    "maxD = max(delayCountList)\n",
    "highAirP = delayCountList.index(maxD)\n",
    "print(airportList[highAirP])\n"
   ]
  },
  {
   "cell_type": "markdown",
   "metadata": {},
   "source": [
    "Airport with the lowest number of delays due to \"security\""
   ]
  },
  {
   "cell_type": "code",
   "execution_count": 103,
   "metadata": {},
   "outputs": [
    {
     "name": "stdout",
     "output_type": "stream",
     "text": [
      "Airport with the lowest number of delays due to security:  {'code': 'TPA', 'name': 'Tampa, FL: Tampa International'}\n"
     ]
    }
   ],
   "source": [
    "# get the lowest value in my lst of delays\n",
    "minD = min(delayCountList)\n",
    "lowAirP = delayCountList.index(minD)\n",
    "print(\"Airport with the lowest number of delays due to security: \", airportList[lowAirP])"
   ]
  },
  {
   "cell_type": "markdown",
   "metadata": {},
   "source": [
    "Carrier with the least amount of \"late aircraft\""
   ]
  },
  {
   "cell_type": "code",
   "execution_count": 104,
   "metadata": {},
   "outputs": [
    {
     "name": "stdout",
     "output_type": "stream",
     "text": [
      "-1\n",
      "Airport with the least amount of late aircraft:  Southwest Airlines Co.\n"
     ]
    }
   ],
   "source": [
    "print(min(lateAircraftList))\n",
    "lateCraftIndex = min(lateAircraftList)\n",
    "print(\"Airport with the least amount of late aircraft: \", carrierList[lateCraftIndex])"
   ]
  },
  {
   "cell_type": "code",
   "execution_count": 105,
   "metadata": {},
   "outputs": [
    {
     "name": "stdout",
     "output_type": "stream",
     "text": [
      "{'American Airlines Inc.': 385693, 'Alaska Airlines Inc.': 66288, 'JetBlue Airways': 134729, 'Continental Air Lines Inc.': 90658, 'Atlantic Coast Airlines': 12559, 'Delta Air Lines Inc.': 287171, 'Atlantic Southeast Airlines': 73059, 'AirTran Airways Corporation': 143115, 'America West Airlines Inc.': 18884, 'American Eagle Airlines Inc.': 253915, 'Northwest Airlines Inc.': 79011, 'SkyWest Airlines Inc.': 280248, 'ExpressJet Airlines Inc.': 249865, 'ATA Airlines d/b/a ATA': 8222, 'United Air Lines Inc.': 327097, 'US Airways Inc.': 212398, 'Southwest Airlines Co.': 652282, 'Hawaiian Airlines Inc.': 1332, 'Comair Inc.': 7861, 'Independence Air': 11405, 'Frontier Airlines Inc.': 44849, 'Mesa Airlines Inc.': 54161, 'Aloha Airlines Inc.': 53, 'Pinnacle Airlines Inc.': 31227, 'Virgin America': 12152, 'Endeavor Air Inc.': 3116, 'Envoy Air': 28778, 'Spirit Air Lines': 8132}\n"
     ]
    }
   ],
   "source": [
    "carrierDelays = dict()\n",
    "\n",
    "for i in range(len(obj)):\n",
    "    carrier = obj[i].get(\"carrier\").get(\"name\")\n",
    "    delays = obj[i].get(\"statistics\").get(\"# of delays\").get(\"late aircraft\")\n",
    "\n",
    "    if carrier in carrierDelays:\n",
    "        value = carrierDelays.get(carrier)\n",
    "        value += delays\n",
    "        # update w/new delay value\n",
    "        carrierDelays[carrier] = value\n",
    "    else:\n",
    "        # if carrier is not yet in dict then add it and delay value\n",
    "        carrierDelays[carrier] = delays\n",
    "\n",
    "    \n",
    "print(carrierDelays)"
   ]
  },
  {
   "cell_type": "markdown",
   "metadata": {},
   "source": [
    "# Get the smallest key in the dictionary .. maps to the smallest delay value. This is our carrier with the minimum # of delays."
   ]
  },
  {
   "cell_type": "code",
   "execution_count": 106,
   "metadata": {},
   "outputs": [],
   "source": [
    "min_key = min(carrierDelays,key=carrierDelays.get)"
   ]
  },
  {
   "cell_type": "code",
   "execution_count": 107,
   "metadata": {},
   "outputs": [
    {
     "data": {
      "text/plain": [
       "'Aloha Airlines Inc.'"
      ]
     },
     "execution_count": 107,
     "metadata": {},
     "output_type": "execute_result"
    }
   ],
   "source": [
    "min_key"
   ]
  },
  {
   "cell_type": "markdown",
   "metadata": {},
   "source": [
    "# Write the results of json processing to XML\n",
    "Using Element Tree to build XML\n",
    "* Root node is 'Airports'\n",
    "* Child 1 node is 'Total'\n",
    "* Child 2 node is 'Flights'\n",
    "-- Attributs of 'Flights' are established as SubElements of Child 2 node\n",
    "* Child 3 node is 'AirportSecurityDelayedHigh'\n",
    "* Child 4 node is 'AirportSecurityDelayedLow'\n",
    "* Child 5 node is 'CarrierLateAircraftLow'"
   ]
  },
  {
   "cell_type": "code",
   "execution_count": 108,
   "metadata": {},
   "outputs": [],
   "source": [
    "def GenerateXML(fileName):\n",
    "    root=ET.Element(\"Airports\")\n",
    "    child1 = ET.Element(\"Total\")\n",
    "    child1Val = str(totalairports)\n",
    "  \n",
    "    child1.text = child1Val  # total airports\n",
    "    root.append(child1)\n",
    "    child2 = ET.Element(\"Flights\")\n",
    "    root.append(child2)\n",
    "    type1 = ET.SubElement(child2, \"TotalF\")\n",
    "    \n",
    "    type1.text = str(totalFlights)   # total flights \n",
    "    \n",
    "    type2 = ET.SubElement(child2, \"SecurityDelayedPercent\")\n",
    "    type2.text = str(percentDelayedBySec)  # total flights delayed due to security\n",
    "    \n",
    "    type3 = ET.SubElement(child2, \"WeatherDelayedPercent\")\n",
    "    type3.text = str(percentDelayedByW)  # total flights delayed due to weather\n",
    "    \n",
    "    type4 = ET.SubElement(child2, \"CarrierDelayedPercent\")\n",
    "    type4.text = str(percentDelayedByC)  # total flights delayed due to carrier\n",
    "    \n",
    "    child3 = ET.Element(\"AirportSecurityDelayedHigh\")\n",
    "    child3.text = airportVal.get('code')\n",
    "    root.append(child3)\n",
    "    \n",
    "    child4 = ET.Element(\"AirportSecurityDelayedLow\")\n",
    "    child4.text = airportList[lowAirP].get('name')\n",
    "    root.append(child4)\n",
    "    \n",
    "    child5 = ET.Element(\"CarrierLateAircraftLow\")\n",
    "    child5.text = min_key\n",
    "    root.append(child5)\n",
    "    \n",
    "    tree = ET.ElementTree(root)\n",
    "    with open(fileName, \"wb\") as files:\n",
    "        tree.write(files)"
   ]
  },
  {
   "cell_type": "markdown",
   "metadata": {},
   "source": [
    "# The resulting xml (airport.xml) is written to the current dir of this notebook process"
   ]
  },
  {
   "cell_type": "code",
   "execution_count": 109,
   "metadata": {},
   "outputs": [],
   "source": [
    "# Build the tree of the xml\n",
    "GenerateXML(\"airport.xml\")"
   ]
  },
  {
   "cell_type": "code",
   "execution_count": null,
   "metadata": {},
   "outputs": [],
   "source": []
  }
 ],
 "metadata": {
  "kernelspec": {
   "display_name": "Python 3",
   "language": "python",
   "name": "python3"
  },
  "language_info": {
   "codemirror_mode": {
    "name": "ipython",
    "version": 3
   },
   "file_extension": ".py",
   "mimetype": "text/x-python",
   "name": "python",
   "nbconvert_exporter": "python",
   "pygments_lexer": "ipython3",
   "version": "3.6.5"
  }
 },
 "nbformat": 4,
 "nbformat_minor": 2
}
